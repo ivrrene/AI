{
  "cells": [
    {
      "cell_type": "code",
      "execution_count": null,
      "metadata": {
        "colab": {
          "base_uri": "https://localhost:8080/"
        },
        "id": "_lyV2ytEXjCs",
        "outputId": "f6e480b0-fc4f-4e60-e11f-b178554a3182"
      },
      "outputs": [
        {
          "name": "stdout",
          "output_type": "stream",
          "text": [
            "[[0. 0.]\n",
            " [0. 0.]]\n"
          ]
        }
      ],
      "source": [
        "#Problem 1- Array Creation\n",
        "#1\n",
        "import numpy as np\n",
        "a = np.zeros((2,2))\n",
        "print(a)"
      ]
    },
    {
      "cell_type": "code",
      "execution_count": null,
      "metadata": {
        "colab": {
          "base_uri": "https://localhost:8080/"
        },
        "id": "UF8aSYqYYJ7U",
        "outputId": "f2352716-0f13-4ba3-dc7e-d80911c4266c"
      },
      "outputs": [
        {
          "name": "stdout",
          "output_type": "stream",
          "text": [
            "[[1. 1.]\n",
            " [1. 1.]\n",
            " [1. 1.]\n",
            " [1. 1.]]\n"
          ]
        }
      ],
      "source": [
        "#2\n",
        "import numpy as np\n",
        "a = np.ones((4,2))\n",
        "print(a)"
      ]
    },
    {
      "cell_type": "code",
      "execution_count": null,
      "metadata": {
        "colab": {
          "base_uri": "https://localhost:8080/"
        },
        "id": "QqIZyZ2iZsUp",
        "outputId": "e5e0bf4f-a5ec-41c8-918a-e72eb01cf114"
      },
      "outputs": [
        {
          "name": "stdout",
          "output_type": "stream",
          "text": [
            "[[5 5 5]\n",
            " [5 5 5]]\n"
          ]
        }
      ],
      "source": [
        "#3\n",
        "import numpy as np\n",
        "a = np.full((2, 3), 5)\n",
        "print(a)"
      ]
    },
    {
      "cell_type": "code",
      "execution_count": null,
      "metadata": {
        "colab": {
          "base_uri": "https://localhost:8080/"
        },
        "id": "IEEGmgd-a1Jt",
        "outputId": "44aae25c-51a0-4d97-863b-d70b45781500"
      },
      "outputs": [
        {
          "name": "stdout",
          "output_type": "stream",
          "text": [
            "[[0 0]\n",
            " [0 0]]\n"
          ]
        }
      ],
      "source": [
        "#4\n",
        "import numpy as np\n",
        "a = np.array([[1, 2], [3, 4]])\n",
        "zeros_like_array = np.zeros_like(a)\n",
        "print(zeros_like_array)"
      ]
    },
    {
      "cell_type": "code",
      "execution_count": null,
      "metadata": {
        "colab": {
          "base_uri": "https://localhost:8080/"
        },
        "id": "t6I_RpfQc4BY",
        "outputId": "0809c38a-b612-463f-8d73-61ee2a0a21d6"
      },
      "outputs": [
        {
          "name": "stdout",
          "output_type": "stream",
          "text": [
            "[[1 1]\n",
            " [1 1]]\n"
          ]
        }
      ],
      "source": [
        "#5\n",
        "import numpy as np\n",
        "a = np.array([[1, 2], [3, 4]])\n",
        "ones_like_array = np.ones_like(a)\n",
        "print(ones_like_array)"
      ]
    },
    {
      "cell_type": "code",
      "execution_count": null,
      "metadata": {
        "colab": {
          "base_uri": "https://localhost:8080/"
        },
        "id": "egZL6WJJdBUk",
        "outputId": "50c88994-96a6-4480-d1a8-7faff90861e2"
      },
      "outputs": [
        {
          "name": "stdout",
          "output_type": "stream",
          "text": [
            "[1 2 3 4]\n"
          ]
        }
      ],
      "source": [
        "#6\n",
        "import numpy as np\n",
        "new_list =[1, 2, 3, 4]\n",
        "converted_array = np.array(new_list)\n",
        "print(converted_array)"
      ]
    },
    {
      "cell_type": "code",
      "execution_count": null,
      "metadata": {
        "colab": {
          "base_uri": "https://localhost:8080/"
        },
        "id": "dfH5HKgjXWPV",
        "outputId": "0edea64e-a02a-45c8-96c6-bc57de3a7532"
      },
      "outputs": [
        {
          "name": "stdout",
          "output_type": "stream",
          "text": [
            "[10 11 12 13 14 15 16 17 18 19 20 21 22 23 24 25 26 27 28 29 30 31 32 33\n",
            " 34 35 36 37 38 39 40 41 42 43 44 45 46 47 48 49]\n"
          ]
        }
      ],
      "source": [
        "#Problem 2: Array Manipulation: Numerical Ranges and Array indexing\n",
        "#1\n",
        "import numpy as np\n",
        "arr = np.arange(10, 50)\n",
        "print(arr)"
      ]
    },
    {
      "cell_type": "code",
      "execution_count": null,
      "metadata": {
        "colab": {
          "base_uri": "https://localhost:8080/"
        },
        "id": "L3SlRNd7YPon",
        "outputId": "ed014fd2-5ab2-4aa1-9e7a-7c6012fd96c1"
      },
      "outputs": [
        {
          "name": "stdout",
          "output_type": "stream",
          "text": [
            "[[0 1 2]\n",
            " [3 4 5]\n",
            " [6 7 8]]\n"
          ]
        }
      ],
      "source": [
        "#2\n",
        "import numpy as np\n",
        "mat = np.arange(9).reshape(3, 3)\n",
        "print(mat)"
      ]
    },
    {
      "cell_type": "code",
      "execution_count": null,
      "metadata": {
        "colab": {
          "base_uri": "https://localhost:8080/"
        },
        "id": "PaqRoWfXZVDf",
        "outputId": "209c90eb-230e-4782-a28e-e2fd9144f457"
      },
      "outputs": [
        {
          "name": "stdout",
          "output_type": "stream",
          "text": [
            "[[1. 0. 0.]\n",
            " [0. 1. 0.]\n",
            " [0. 0. 1.]]\n"
          ]
        }
      ],
      "source": [
        "#3\n",
        "import numpy as np\n",
        "identity_mat = np.eye(3)\n",
        "print(identity_mat)"
      ]
    },
    {
      "cell_type": "code",
      "execution_count": null,
      "metadata": {
        "colab": {
          "base_uri": "https://localhost:8080/"
        },
        "id": "EDV0S7EzZgvO",
        "outputId": "6041d797-de19-4d82-e568-88e1f7745e2b"
      },
      "outputs": [
        {
          "name": "stdout",
          "output_type": "stream",
          "text": [
            "[0.72811104 0.18701222 0.77796839 0.92676978 0.79955992 0.11384127\n",
            " 0.47820182 0.0856292  0.55260889 0.20279848 0.58956283 0.60711294\n",
            " 0.22539063 0.90333014 0.66543471 0.92906122 0.61217794 0.72082698\n",
            " 0.6840593  0.6510558  0.96329599 0.95620399 0.89549018 0.04448399\n",
            " 0.51854033 0.8351374  0.00198559 0.70321529 0.61277249 0.02291491] 0.5664851219244638\n"
          ]
        }
      ],
      "source": [
        "#4\n",
        "import numpy as np\n",
        "arr = np.random.random(30)\n",
        "mean = arr.mean()\n",
        "print(arr, mean)"
      ]
    },
    {
      "cell_type": "code",
      "execution_count": null,
      "metadata": {
        "colab": {
          "base_uri": "https://localhost:8080/"
        },
        "id": "K1YgCcsSaD_H",
        "outputId": "a4930783-1af6-43d9-9b4a-4a72cb24bc01"
      },
      "outputs": [
        {
          "name": "stdout",
          "output_type": "stream",
          "text": [
            "Minimum Value: 0.012898278172167044 \n",
            "Maximum Value: 0.9996636295476826\n"
          ]
        }
      ],
      "source": [
        "#5\n",
        "import numpy as np\n",
        "arr = np.random.random((10, 10))\n",
        "arr_min = arr.min()\n",
        "arr_max = arr.max()\n",
        "print(\"Minimum Value:\", arr_min, \"\\nMaximum Value:\", arr_max)"
      ]
    },
    {
      "cell_type": "code",
      "execution_count": null,
      "metadata": {
        "colab": {
          "base_uri": "https://localhost:8080/"
        },
        "id": "0wksxq-KbCrj",
        "outputId": "c721a8cf-32b3-439f-e804-bfd789b5ad89"
      },
      "outputs": [
        {
          "name": "stdout",
          "output_type": "stream",
          "text": [
            "[0. 0. 0. 0. 1. 0. 0. 0. 0. 0.]\n"
          ]
        }
      ],
      "source": [
        "#6\n",
        "import numpy as np\n",
        "arr = np.zeros(10)\n",
        "arr[4] = 1\n",
        "print(arr)"
      ]
    },
    {
      "cell_type": "code",
      "execution_count": null,
      "metadata": {
        "colab": {
          "base_uri": "https://localhost:8080/"
        },
        "id": "44YOvmezbTvd",
        "outputId": "9b819e5a-84c3-4f37-d997-5e14418ed248"
      },
      "outputs": [
        {
          "name": "stdout",
          "output_type": "stream",
          "text": [
            "[0 4 0 0 2 1]\n"
          ]
        }
      ],
      "source": [
        "#7\n",
        "import numpy as np\n",
        "arr = [1, 2, 0, 0, 4, 0]\n",
        "reversed_arr = np.array(arr)[::-1]\n",
        "print(reversed_arr)"
      ]
    },
    {
      "cell_type": "code",
      "execution_count": null,
      "metadata": {
        "colab": {
          "base_uri": "https://localhost:8080/"
        },
        "id": "FvqRw9Lnbolm",
        "outputId": "3bd28ab4-04b5-4cff-ce3d-4cd797d5b9f2"
      },
      "outputs": [
        {
          "name": "stdout",
          "output_type": "stream",
          "text": [
            "[[1. 1. 1. 1. 1.]\n",
            " [1. 0. 0. 0. 1.]\n",
            " [1. 0. 0. 0. 1.]\n",
            " [1. 0. 0. 0. 1.]\n",
            " [1. 1. 1. 1. 1.]]\n"
          ]
        }
      ],
      "source": [
        "#8\n",
        "import numpy as np\n",
        "arr = np.ones((5, 5))\n",
        "arr[1:-1, 1:-1] = 0\n",
        "print(arr)"
      ]
    },
    {
      "cell_type": "code",
      "execution_count": null,
      "metadata": {
        "colab": {
          "base_uri": "https://localhost:8080/"
        },
        "id": "7_t9aZgzcLsb",
        "outputId": "2a66992e-3a91-4723-968a-6a4b1eb28c28"
      },
      "outputs": [
        {
          "name": "stdout",
          "output_type": "stream",
          "text": [
            "[[0. 1. 0. 1. 0. 1. 0. 1.]\n",
            " [1. 0. 1. 0. 1. 0. 1. 0.]\n",
            " [0. 1. 0. 1. 0. 1. 0. 1.]\n",
            " [1. 0. 1. 0. 1. 0. 1. 0.]\n",
            " [0. 1. 0. 1. 0. 1. 0. 1.]\n",
            " [1. 0. 1. 0. 1. 0. 1. 0.]\n",
            " [0. 1. 0. 1. 0. 1. 0. 1.]\n",
            " [1. 0. 1. 0. 1. 0. 1. 0.]]\n"
          ]
        }
      ],
      "source": [
        "#9\n",
        "import numpy as np\n",
        "checkerboard = np.zeros((8, 8))\n",
        "checkerboard[1::2, ::2] = 1\n",
        "checkerboard[::2, 1::2] = 1\n",
        "print(checkerboard)"
      ]
    },
    {
      "cell_type": "code",
      "execution_count": null,
      "metadata": {
        "colab": {
          "base_uri": "https://localhost:8080/"
        },
        "id": "pT9XiuFpdNV-",
        "outputId": "9aa7e641-5634-4af5-d62b-01f07b699f3e"
      },
      "outputs": [
        {
          "name": "stdout",
          "output_type": "stream",
          "text": [
            "Addition of X and Y: [[ 6  8]\n",
            " [10 13]] \n",
            "Addition of V and W: [20 22]\n"
          ]
        }
      ],
      "source": [
        "#Problem-3:Array Operations\n",
        "#1\n",
        "import numpy as np\n",
        "x = np.array([[1,2],[3,5]])\n",
        "y = np.array([[5,6],[7,8]])\n",
        "v = np.array([9,10])\n",
        "w = np.array([11,12])\n",
        "add_arr = x + y\n",
        "add_arr1 = v + w\n",
        "print(\"Addition of X and Y:\", add_arr, \"\\nAddition of V and W:\", add_arr1)"
      ]
    },
    {
      "cell_type": "code",
      "execution_count": null,
      "metadata": {
        "colab": {
          "base_uri": "https://localhost:8080/"
        },
        "id": "ERZDq-Wizc2R",
        "outputId": "e0e6e022-08e4-44d3-88e6-3984292119d7"
      },
      "outputs": [
        {
          "name": "stdout",
          "output_type": "stream",
          "text": [
            "Subtraction of X and Y: [[-4 -4]\n",
            " [-4 -3]] \n",
            "Subtraction of V and W: [-2 -2]\n"
          ]
        }
      ],
      "source": [
        "#2\n",
        "import numpy as np\n",
        "x = np.array([[1,2],[3,5]])\n",
        "y = np.array([[5,6],[7,8]])\n",
        "v = np.array([9,10])\n",
        "w = np.array([11,12])\n",
        "sub_arr = x - y\n",
        "sub_arr1 = v - w\n",
        "print(\"Subtraction of X and Y:\", sub_arr, \"\\nSubtraction of V and W:\", sub_arr1)"
      ]
    },
    {
      "cell_type": "code",
      "execution_count": null,
      "metadata": {
        "colab": {
          "base_uri": "https://localhost:8080/"
        },
        "id": "hEpumcSp0JlE",
        "outputId": "5e7e662d-5b90-456b-e67a-d0728ab1e991"
      },
      "outputs": [
        {
          "name": "stdout",
          "output_type": "stream",
          "text": [
            "[[ 9 18]\n",
            " [27 45]]\n"
          ]
        }
      ],
      "source": [
        "#3\n",
        "import numpy as np\n",
        "x = np.array([[1,2],[3,5]])\n",
        "y = np.array([[5,6],[7,8]])\n",
        "v = np.array([9,10])\n",
        "w = np.array([11,12])\n",
        "mult_arr = x * 9\n",
        "print(mult_arr)"
      ]
    },
    {
      "cell_type": "code",
      "execution_count": null,
      "metadata": {
        "colab": {
          "base_uri": "https://localhost:8080/"
        },
        "id": "WEAeMvCX0Y8k",
        "outputId": "43521355-4d7f-4a4b-de4c-c7ac8053dee5"
      },
      "outputs": [
        {
          "name": "stdout",
          "output_type": "stream",
          "text": [
            "[[ 1  4]\n",
            " [ 9 25]] \n",
            " [[25 36]\n",
            " [49 64]] \n",
            " [ 81 100] \n",
            " [121 144]\n"
          ]
        }
      ],
      "source": [
        "#4\n",
        "import numpy as np\n",
        "x = np.array([[1,2],[3,5]])\n",
        "y = np.array([[5,6],[7,8]])\n",
        "v = np.array([9,10])\n",
        "w = np.array([11,12])\n",
        "square_arrX = x**2\n",
        "square_arrY = y**2\n",
        "square_arrV = v**2\n",
        "square_arrW = w**2\n",
        "print(square_arrX, \"\\n\",square_arrY, \"\\n\",square_arrV,\"\\n\" ,square_arrW)"
      ]
    },
    {
      "cell_type": "code",
      "execution_count": null,
      "metadata": {
        "colab": {
          "base_uri": "https://localhost:8080/"
        },
        "id": "kjCojmcD1yf9",
        "outputId": "28d7afbd-7067-4e83-a632-2db1c19abab6"
      },
      "outputs": [
        {
          "name": "stdout",
          "output_type": "stream",
          "text": [
            "Dot Product of V and W: 219 \n",
            "Dot Product of X and V:  [29 77] \n",
            "Dot Product of X and Y: [[19 22]\n",
            " [50 58]]\n"
          ]
        }
      ],
      "source": [
        "#5\n",
        "import numpy as np\n",
        "x = np.array([[1,2],[3,5]])\n",
        "y = np.array([[5,6],[7,8]])\n",
        "v = np.array([9,10])\n",
        "w = np.array([11,12])\n",
        "dot_product_vw = np.dot(v, w)\n",
        "dot_product_xv = np.dot(x, v)\n",
        "dot_product_xy = np.dot(x, y)\n",
        "print(\"Dot Product of V and W:\",dot_product_vw, \"\\nDot Product of X and V: \",dot_product_xv,\"\\nDot Product of X and Y:\",dot_product_xy)"
      ]
    },
    {
      "cell_type": "code",
      "execution_count": null,
      "metadata": {
        "colab": {
          "base_uri": "https://localhost:8080/"
        },
        "id": "srl28ajn1OOf",
        "outputId": "7cb88efd-0607-472f-b86d-99bc41489ed0"
      },
      "outputs": [
        {
          "name": "stdout",
          "output_type": "stream",
          "text": [
            "[[1 2]\n",
            " [3 5]\n",
            " [5 6]\n",
            " [7 8]]\n",
            "[[ 9 11]\n",
            " [10 12]]\n"
          ]
        }
      ],
      "source": [
        "#6\n",
        "import numpy as np\n",
        "x = np.array([[1,2],[3,5]])\n",
        "y = np.array([[5,6],[7,8]])\n",
        "v = np.array([9,10])\n",
        "w = np.array([11,12])\n",
        "concat_xy_rows = np.concatenate((x, y), axis=0)\n",
        "concat_vw_columns = np.vstack((v, w)).T\n",
        "print(concat_xy_rows)\n",
        "print(concat_vw_columns)"
      ]
    },
    {
      "cell_type": "code",
      "execution_count": null,
      "metadata": {
        "colab": {
          "base_uri": "https://localhost:8080/"
        },
        "id": "R4N6diZO2ikV",
        "outputId": "ea4ac75d-e920-44ba-cb47-83d520c990d4"
      },
      "outputs": [
        {
          "name": "stdout",
          "output_type": "stream",
          "text": [
            "all the input arrays must have same number of dimensions, but the array at index 0 has 2 dimension(s) and the array at index 1 has 1 dimension(s)\n"
          ]
        }
      ],
      "source": [
        "#7\n",
        "import numpy as np\n",
        "x = np.array([[1,2],[3,5]])\n",
        "y = np.array([[5,6],[7,8]])\n",
        "v = np.array([9,10])\n",
        "w = np.array([11,12])\n",
        "try:\n",
        "    concat_xv = np.concatenate((x, v), axis=0)\n",
        "except ValueError as e:\n",
        "    concat_xv_error = str(e)\n",
        "print(concat_xv_error)"
      ]
    },
    {
      "cell_type": "code",
      "execution_count": null,
      "metadata": {
        "colab": {
          "base_uri": "https://localhost:8080/"
        },
        "id": "oFnqIje_3zgD",
        "outputId": "e084bb60-b941-43db-dda3-7e6e90beb3b7"
      },
      "outputs": [
        {
          "name": "stdout",
          "output_type": "stream",
          "text": [
            "\n",
            "A.A^-1:\n",
            " [[1.00000000e+00 0.00000000e+00]\n",
            " [1.77635684e-15 1.00000000e+00]]\n"
          ]
        }
      ],
      "source": [
        "#Problem-4: Matrix Operations\n",
        "#1\n",
        "A = np.array([[3, 4], [7, 8]])\n",
        "B = np.array([[5, 3], [2, 1]])\n",
        "A_inv = np.linalg.inv(A)\n",
        "I = np.dot(A, A_inv)\n",
        "print(\"\\nA.A^-1:\\n\", I)"
      ]
    },
    {
      "cell_type": "code",
      "execution_count": null,
      "metadata": {
        "colab": {
          "base_uri": "https://localhost:8080/"
        },
        "id": "bLmH72pn596W",
        "outputId": "b02f4fd2-8313-4010-dc8d-462be1df10f5"
      },
      "outputs": [
        {
          "name": "stdout",
          "output_type": "stream",
          "text": [
            "\n",
            "AB:\n",
            " [[23 13]\n",
            " [51 29]]\n",
            "\n",
            "BA:\n",
            " [[36 44]\n",
            " [13 16]]\n",
            "\n",
            "AB ≠ BA: True\n"
          ]
        }
      ],
      "source": [
        "#2\n",
        "A = np.array([[3, 4], [7, 8]])\n",
        "B = np.array([[5, 3], [2, 1]])\n",
        "AB = np.dot(A, B)\n",
        "BA = np.dot(B, A)\n",
        "print(\"\\nAB:\\n\", AB)\n",
        "print(\"\\nBA:\\n\", BA)\n",
        "print(\"\\nAB ≠ BA:\", not np.array_equal(AB, BA))"
      ]
    },
    {
      "cell_type": "code",
      "execution_count": null,
      "metadata": {
        "colab": {
          "base_uri": "https://localhost:8080/"
        },
        "id": "4Fjuw9i67b30",
        "outputId": "80da7455-9ec1-4ab8-9112-71bab6cfcde0"
      },
      "outputs": [
        {
          "name": "stdout",
          "output_type": "stream",
          "text": [
            "\n",
            "(AB)ᵀ:\n",
            " [[23 51]\n",
            " [13 29]]\n",
            "\n",
            "BᵀAᵀ:\n",
            " [[23 51]\n",
            " [13 29]]\n",
            "\n",
            "(AB)ᵀ = BᵀAᵀ: True\n"
          ]
        }
      ],
      "source": [
        "#3\n",
        "import numpy as np\n",
        "A = np.array([[3, 4], [7, 8]])\n",
        "B = np.array([[5, 3], [2, 1]])\n",
        "AB = np.dot(A, B)\n",
        "BA = np.dot(B, A)\n",
        "AB_transpose = AB.transpose()\n",
        "B_transpose = B.transpose()\n",
        "A_transpose = A.transpose()\n",
        "BT_AT = np.dot(B_transpose, A_transpose)\n",
        "print(\"\\n(AB)ᵀ:\\n\", AB_transpose)\n",
        "print(\"\\nBᵀAᵀ:\\n\", BT_AT)\n",
        "print(\"\\n(AB)ᵀ = BᵀAᵀ:\", np.array_equal(AB_transpose, BT_AT))"
      ]
    },
    {
      "cell_type": "code",
      "execution_count": null,
      "metadata": {
        "colab": {
          "base_uri": "https://localhost:8080/"
        },
        "id": "Nbf4jzas8Sb6",
        "outputId": "0849a484-da14-48da-978b-c0f2dc8ac93e"
      },
      "outputs": [
        {
          "name": "stdout",
          "output_type": "stream",
          "text": [
            "\n",
            "Solution using inverse method:\n",
            " [ 2.  1. -2.]\n",
            "\n",
            "Solution using np.linalg.solve:\n",
            " [ 2.  1. -2.]\n"
          ]
        }
      ],
      "source": [
        "#Linear Equation\n",
        "# 2x − 3y + z = −1\n",
        "# x − y + 2z = −3\n",
        "# 3x + y − z = 9\n",
        "A = np.array([[2, -3, 1], [1, -1, 2], [3, 1, -1]])\n",
        "B = np.array([-1, -3, 9])\n",
        "\n",
        "\n",
        "# Using inverse method\n",
        "X = np.dot(np.linalg.inv(A), B)\n",
        "print(\"\\nSolution using inverse method:\\n\", X)\n",
        "\n",
        "\n",
        "# Using np.linalg.solve\n",
        "X_solve = np.linalg.solve(A,B)\n",
        "print(\"\\nSolution using np.linalg.solve:\\n\", X_solve)"
      ]
    },
    {
      "cell_type": "code",
      "execution_count": null,
      "metadata": {
        "colab": {
          "base_uri": "https://localhost:8080/"
        },
        "id": "nue3pu6PLdnf",
        "outputId": "0a58e948-c882-48ae-9083-42c9ce6970ba"
      },
      "outputs": [
        {
          "name": "stdout",
          "output_type": "stream",
          "text": [
            "List element-wise addition time: 0.1556401252746582\n",
            "Numpy element-wise addition time: 0.0056836605072021484\n"
          ]
        }
      ],
      "source": [
        "import numpy as np\n",
        "import time\n",
        "\n",
        "\n",
        "# 1. Element-wise Addition\n",
        "size = 1000000\n",
        "list1 = list(range(size))\n",
        "list2 = list(range(size))\n",
        "array1 = np.array(list1)\n",
        "array2 = np.array(list2)\n",
        "\n",
        "\n",
        "start_time = time.time()\n",
        "list_sum = [x + y for x, y in zip(list1, list2)]\n",
        "end_time = time.time()\n",
        "print(\"List element-wise addition time:\", end_time - start_time)\n",
        "\n",
        "start_time = time.time()\n",
        "array_sum = array1 + array2\n",
        "end_time = time.time()\n",
        "print(\"Numpy element-wise addition time:\", end_time - start_time)"
      ]
    },
    {
      "cell_type": "code",
      "execution_count": null,
      "metadata": {
        "colab": {
          "base_uri": "https://localhost:8080/"
        },
        "id": "r2_b_KMiLjiO",
        "outputId": "f74fc949-1ebc-45ca-f77a-5a295bfd6d06"
      },
      "outputs": [
        {
          "name": "stdout",
          "output_type": "stream",
          "text": [
            "List element-wise multiplication time: 0.17855620384216309\n",
            "Numpy element-wise multiplication time: 0.00555872917175293\n"
          ]
        }
      ],
      "source": [
        "# 2. Element-wise Multiplication\n",
        "start_time = time.time()\n",
        "list_mult = [x * y for x, y in zip(list1, list2)]\n",
        "end_time = time.time()\n",
        "print(\"List element-wise multiplication time:\", end_time - start_time)\n",
        "\n",
        "\n",
        "\n",
        "\n",
        "start_time = time.time()\n",
        "array_mult = array1 * array2\n",
        "end_time = time.time()\n",
        "print(\"Numpy element-wise multiplication time:\", end_time - start_time)"
      ]
    },
    {
      "cell_type": "code",
      "execution_count": null,
      "metadata": {
        "colab": {
          "base_uri": "https://localhost:8080/"
        },
        "id": "Tq7kk5N-L4Qm",
        "outputId": "21d73a8c-775f-4d1a-e4bf-269adc8eee85"
      },
      "outputs": [
        {
          "name": "stdout",
          "output_type": "stream",
          "text": [
            "List dot product time: 0.00036072731018066406\n",
            "Numpy dot product time: 0.0001609325408935547\n"
          ]
        }
      ],
      "source": [
        "# 3. Dot Product\n",
        "list1 = list(range(size))\n",
        "list2 = list(range(size))\n",
        "array1 = np.array(list1)\n",
        "array2 = np.array(list2)\n",
        "start_time = time.time()\n",
        "dot_product_list = sum(x * y for x, y in zip(list1, list2))\n",
        "end_time = time.time()\n",
        "print(\"List dot product time:\", end_time - start_time)\n",
        "\n",
        "\n",
        "start_time = time.time()\n",
        "dot_product_array = np.dot(array1, array2)\n",
        "end_time = time.time()\n",
        "print(\"Numpy dot product time:\", end_time - start_time)"
      ]
    },
    {
      "cell_type": "code",
      "execution_count": null,
      "metadata": {
        "colab": {
          "background_save": true
        },
        "id": "OjuwT7T3L8NI",
        "outputId": "30b74208-1b29-4d24-9d24-29aa2ae57f90"
      },
      "outputs": [
        {
          "name": "stdout",
          "output_type": "stream",
          "text": [
            "Python list matrix multiplication time: 250.67160367965698\n",
            "NumPy matrix multiplication time: 2.052969455718994\n"
          ]
        }
      ],
      "source": [
        "# 4. Matrix Multiplication\n",
        "list1 = list(range(size))\n",
        "list2 = list(range(size))\n",
        "array1 = np.array(list1)\n",
        "array2 = np.array(list2)\n",
        "size = 1000\n",
        "\n",
        "\n",
        "# Using Python lists\n",
        "matrix1 = [[j for j in range(size)] for i in range(size)]\n",
        "matrix2 = [[j for j in range(size)] for i in range(size)]\n",
        "\n",
        "\n",
        "start_time = time.time()\n",
        "result_matrix = [[sum(matrix1[i][k] * matrix2[k][j] for k in range(size)) for j in range(size)] for i in range(size)]\n",
        "end_time = time.time()\n",
        "\n",
        "\n",
        "print(\"Python list matrix multiplication time:\", end_time - start_time)\n",
        "\n",
        "# Using NumPy arrays\n",
        "matrix1_np = np.array(matrix1)\n",
        "matrix2_np = np.array(matrix2)\n",
        "\n",
        "\n",
        "start_time = time.time()\n",
        "result_matrix_np = np.dot(matrix1_np, matrix2_np)\n",
        "end_time = time.time()\n",
        "\n",
        "\n",
        "print(\"NumPy matrix multiplication time:\", end_time - start_time)"
      ]
    }
  ],
  "metadata": {
    "colab": {
      "provenance": []
    },
    "kernelspec": {
      "display_name": "Python 3",
      "name": "python3"
    },
    "language_info": {
      "name": "python"
    }
  },
  "nbformat": 4,
  "nbformat_minor": 0
}