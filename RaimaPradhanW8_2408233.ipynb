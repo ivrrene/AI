{
  "nbformat": 4,
  "nbformat_minor": 0,
  "metadata": {
    "colab": {
      "provenance": []
    },
    "kernelspec": {
      "name": "python3",
      "display_name": "Python 3"
    },
    "language_info": {
      "name": "python"
    }
  },
  "cells": [
    {
      "cell_type": "code",
      "execution_count": null,
      "metadata": {
        "id": "1Ab09k43t0jm"
      },
      "outputs": [],
      "source": [
        "import numpy as np\n",
        "import pandas as pd\n",
        "from sklearn.datasets import load_wine\n",
        "from sklearn.model_selection import train_test_split, GridSearchCV, RandomizedSearchCV\n",
        "from sklearn.metrics import f1_score, mean_squared_error\n",
        "from sklearn.tree import DecisionTreeClassifier, DecisionTreeRegressor\n",
        "from sklearn.ensemble import RandomForestClassifier, RandomForestRegressor\n",
        "\n",
        "# Load the Wine dataset\n",
        "wine = load_wine()\n",
        "X, y = wine.data, wine.target\n",
        "\n",
        "# Split the dataset into training and testing sets\n",
        "X_train, X_test, y_train, y_test = train_test_split(X, y, test_size=0.3, random_state=42)"
      ]
    },
    {
      "cell_type": "code",
      "source": [
        "# Qn 3.1\n",
        "dt_classifier = DecisionTreeClassifier(random_state=42)\n",
        "dt_classifier.fit(X_train, y_train)\n",
        "dt_pred = dt_classifier.predict(X_test)\n",
        "dt_f1_score = f1_score(y_test, dt_pred, average=\"weighted\")\n",
        "\n",
        "rf_classifier = RandomForestClassifier(random_state=42)\n",
        "rf_classifier.fit(X_train, y_train)\n",
        "rf_pred = rf_classifier.predict(X_test)\n",
        "rf_f1_score = f1_score(y_test, rf_pred, average=\"weighted\")\n",
        "\n",
        "print(\"Decision Tree Classifier F1 Score:\", dt_f1_score)\n",
        "print(\"Random Forest Classifier F1 Score:\", rf_f1_score)"
      ],
      "metadata": {
        "id": "cNPWmr0YvxTG",
        "colab": {
          "base_uri": "https://localhost:8080/"
        },
        "outputId": "01c42bc3-b256-4a81-ea1f-e6db6309407c"
      },
      "execution_count": null,
      "outputs": [
        {
          "output_type": "stream",
          "name": "stdout",
          "text": [
            "Decision Tree Classifier F1 Score: 0.9628353590455226\n",
            "Random Forest Classifier F1 Score: 1.0\n"
          ]
        }
      ]
    },
    {
      "cell_type": "code",
      "source": [
        "# Qn 3.2\n",
        "rf_hyperparameters = {\n",
        "    \"n_estimators\": [50, 100, 200],\n",
        "    \"max_depth\": [None, 10, 20, 30],\n",
        "    \"min_samples_split\": [2, 5, 10]\n",
        "}\n",
        "\n",
        "grid_search = GridSearchCV(estimator=RandomForestClassifier(random_state=42),\n",
        "                           param_grid=rf_hyperparameters,\n",
        "                           scoring='f1_weighted',\n",
        "                           cv=5,\n",
        "                           verbose=1)\n",
        "grid_search.fit(X_train, y_train)\n",
        "\n",
        "print(\"Best Hyperparameters for Random Forest Classifier:\", grid_search.best_params_)"
      ],
      "metadata": {
        "colab": {
          "base_uri": "https://localhost:8080/"
        },
        "id": "0pgw3bLirSQn",
        "outputId": "26d8e5d7-bd29-4353-96d6-6b647278b499"
      },
      "execution_count": null,
      "outputs": [
        {
          "output_type": "stream",
          "name": "stdout",
          "text": [
            "Fitting 5 folds for each of 36 candidates, totalling 180 fits\n",
            "Best Hyperparameters for Random Forest Classifier: {'max_depth': None, 'min_samples_split': 2, 'n_estimators': 50}\n"
          ]
        }
      ]
    },
    {
      "cell_type": "code",
      "source": [
        "# Qn 3.3\n",
        "X_train_reg, X_test_reg, y_train_reg, y_test_reg = train_test_split(X, wine.data[:, 0], test_size=0.3, random_state=42)\n",
        "\n",
        "dt_regressor = DecisionTreeRegressor(random_state=42)\n",
        "dt_regressor.fit(X_train_reg, y_train_reg)\n",
        "dt_reg_pred = dt_regressor.predict(X_test_reg)\n",
        "dt_mse = mean_squared_error(y_test_reg, dt_reg_pred)\n",
        "\n",
        "rf_regressor = RandomForestRegressor(random_state=42)\n",
        "rf_regressor.fit(X_train_reg, y_train_reg)\n",
        "rf_reg_pred = rf_regressor.predict(X_test_reg)\n",
        "rf_mse = mean_squared_error(y_test_reg, rf_reg_pred)\n",
        "\n",
        "print(\"Decision Tree Regressor MSE:\", dt_mse)\n",
        "print(\"Random Forest Regressor MSE:\", rf_mse)\n",
        "\n",
        "rf_reg_hyperparameters = {\n",
        "    \"n_estimators\": [50, 100, 200],\n",
        "    \"max_depth\": [None, 10, 20, 30],\n",
        "    \"min_samples_split\": [2, 5, 10]\n",
        "}\n",
        "\n",
        "random_search = RandomizedSearchCV(estimator=RandomForestRegressor(random_state=42),\n",
        "                                   param_distributions=rf_reg_hyperparameters,\n",
        "                                   scoring='neg_mean_squared_error',\n",
        "                                   n_iter=10,\n",
        "                                   cv=5,\n",
        "                                   verbose=1,\n",
        "                                   random_state=42)\n",
        "random_search.fit(X_train_reg, y_train_reg)\n",
        "\n",
        "print(\"Best Hyperparameters for Random Forest Regressor:\", random_search.best_params_)"
      ],
      "metadata": {
        "colab": {
          "base_uri": "https://localhost:8080/"
        },
        "id": "2D6OLRz8rXXe",
        "outputId": "bef7f4af-50d2-4ad4-b637-0abbee1e2386"
      },
      "execution_count": null,
      "outputs": [
        {
          "output_type": "stream",
          "name": "stdout",
          "text": [
            "Decision Tree Regressor MSE: 0.0017592592592592462\n",
            "Random Forest Regressor MSE: 0.001327517407407434\n",
            "Fitting 5 folds for each of 10 candidates, totalling 50 fits\n",
            "Best Hyperparameters for Random Forest Regressor: {'n_estimators': 50, 'min_samples_split': 5, 'max_depth': 30}\n"
          ]
        }
      ]
    }
  ]
}